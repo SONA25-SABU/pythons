{
 "cells": [
  {
   "cell_type": "code",
   "execution_count": 1,
   "metadata": {},
   "outputs": [],
   "source": [
    "try: # code that might raise an exception\n",
    "    numerator = float(input(\"Enter the numerator: \"))\n",
    "    denominator = float(input(\"Enter the denominator: \"))\n",
    "\n",
    "    if denominator == 0:\n",
    "        raise ZeroDivisionError(\"Error: Division by zero is not allowed.\") #if some_condition:raise CustomException(\"Some error message\")\n",
    "\n",
    "\n",
    "    result = numerator / denominator\n",
    "\n",
    "    print(f\"Result of division: {result}\")\n",
    "\n",
    "except ZeroDivisionError as zd_error: #except SomeExceptionType: ( code to handle the exception)\n",
    "    print(zd_error)\n",
    "except ValueError:# code to handle another exception\n",
    "    print(\"Error: Invalid input. Please enter valid numerical values.\")\n",
    "\n",
    "finally:#code that always executes\n",
    "    print(\"Program execution completed.\")"
   ]
  }
 ],
 "metadata": {
  "kernelspec": {
   "display_name": "Python 3",
   "language": "python",
   "name": "python3"
  },
  "language_info": {
   "codemirror_mode": {
    "name": "ipython",
    "version": 3
   },
   "file_extension": ".py",
   "mimetype": "text/x-python",
   "name": "python",
   "nbconvert_exporter": "python",
   "pygments_lexer": "ipython3",
   "version": "3.11.5"
  },
  "orig_nbformat": 4
 },
 "nbformat": 4,
 "nbformat_minor": 2
}
